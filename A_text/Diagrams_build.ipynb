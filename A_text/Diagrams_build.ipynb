{
 "cells": [
  {
   "cell_type": "markdown",
   "id": "abbe2d28",
   "metadata": {},
   "source": [
    "1. “Wann flippt der Himmel aus?” – Sichtungen im Zeitverlauf\n",
    "Charttyp: 🎢 Line Chart\n",
    "\n",
    "Y-Achse: Anzahl Sichtungen pro Jahr\n",
    "\n",
    "Optional: Smooth-Curve oder Rolling Average (z. B. 5 Jahre)\n",
    "\n",
    "Highlight: Hypes! z. B. 1997 (Phoenix Lights), 2020 (US Navy Leak)\n",
    "Storypunkt: Wann war der UFO-Wahnsinn am größten? Zeigt auch den Einfluss von Medien (z. B. X-Files oder Area-51-Meme).\n",
    "\n"
   ]
  },
  {
   "cell_type": "markdown",
   "id": "f413c7c8",
   "metadata": {},
   "source": [
    "2. “Aliens lieben Sommernächte” – Sichtungen nach Monat/Uhrzeit\n",
    "Charttyp: Polar Heatmap oder Circular Histogram\n",
    "\n",
    "Zeigt Häufung nach Uhrzeit oder Monatszeit\n",
    "\n",
    "Tipp: Uhrzeit auf Kreisachse, Farben = Häufigkeit\n",
    "Storypunkt: Mehr Sichtungen in warmen Monaten und nachts – vielleicht, weil mehr Leute draußen sind oder die Dunkelheit „inspiriert“?\n",
    "\n"
   ]
  },
  {
   "cell_type": "markdown",
   "id": "63141192",
   "metadata": {},
   "source": [
    "3. “Hotspots auf der Erde” – Geografische Verteilung\n",
    "Charttyp: Map (Choropleth oder Bubble Map)\n",
    "\n",
    "USA: Karte mit Sichtungen pro Bundesstaat\n",
    "\n",
    "World: Zeigt Verteilung internationaler Reports\n",
    "Storypunkt: Warum sieht man mehr in Kalifornien oder Florida? Liegt es an Bevölkerungsdichte, Medien oder tatsächlichen Aliens?\n"
   ]
  },
  {
   "cell_type": "markdown",
   "id": "0d1e89b2",
   "metadata": {},
   "source": [
    "4. “Fliegende Dreiecke, Zigarren und Lichter” – Formen im Wandel der Zeit\n",
    "Charttyp: Stacked Area Chart\n",
    "\n",
    "Y-Achse: Anteil pro Shape (Diskus, Triangle, Fireball, etc.)\n",
    "\n",
    "X-Achse: Jahre\n",
    "Storypunkt: Welche „Designs“ sind in welchem Jahrzehnt beliebt? Früher mehr klassische „Flying Saucers“, heute mehr Lichtkugeln?\n",
    "\n"
   ]
  },
  {
   "cell_type": "markdown",
   "id": "14be2a04",
   "metadata": {},
   "source": [
    "5. “Von 2 Sekunden bis 5 Stunden” – Dauer der Sichtungen\n",
    "Charttyp: Histogramm (logarithmisch) oder Boxplot\n",
    "\n",
    "Zeigt Dauerkategorien (z. B. <1 Min, 1–5 Min, >1 Std)\n",
    "\n",
    "Optional: nach Shape oder Ort gruppieren\n",
    "Storypunkt: Die meisten UFOs verschwinden schnell – oder bleiben sie doch länger?\n",
    "\n"
   ]
  },
  {
   "cell_type": "markdown",
   "id": "d2833a65",
   "metadata": {},
   "source": [
    "6. “Aliens an Weihnachten?” – Korrelation mit Feiertagen\n",
    "Charttyp: Bar Chart oder Calendar Heatmap\n",
    "\n",
    "Feiertage vs. Sichtungsdichte (z. B. Halloween, 4. Juli, Weihnachten)\n",
    "\n",
    "Auch: Wie viele Sichtungen an „besonderen Tagen“?\n",
    "Storypunkt: Gibt’s kulturelle Trigger? Feiertage = mehr Freizeit, mehr Alkohol, mehr Aliens?"
   ]
  }
 ],
 "metadata": {
  "language_info": {
   "name": "python"
  }
 },
 "nbformat": 4,
 "nbformat_minor": 5
}
