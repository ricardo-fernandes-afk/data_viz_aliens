{
  "cells": [
    {
      "cell_type": "markdown",
      "id": "44bcc2c1",
      "metadata": {},
      "source": [
        "1. **\"When Does the Sky Go Crazy?\" – Sightings Over Time**\n",
        "**Chart Type:** Line chart\n",
        "\n",
        "**Y-Axis:** Number of sightings per year\n",
        "\n",
        "**Optional:** Smooth curve or rolling average (e.g., 5 years)\n",
        "\n",
        "**Highlight:** Peaks! For example, 1997 (Phoenix Lights), 2020 (US Navy leak)\n",
        "\n",
        "**Story Point:** When was UFO mania at its peak? Also shows the influence of media (e.g., X-Files or Area 51 memes)\n"
      ]
    },
    {
      "cell_type": "markdown",
      "id": "0bdd56fc",
      "metadata": {},
      "source": [
        "2. **\"Aliens Love Summer Nights\" – Sightings by Month/Time of Day**\n",
        "**Chart Type:** Polar heatmap or circular histogram\n",
        "\n",
        "**Shows:** Clusters by time of day or month\n",
        "\n",
        "**Tip:** Time of day on circular axis, colors = frequency\n",
        "\n",
        "**Story Point:** More sightings in warmer months and at night – possibly because more people are outside or the darkness “inspires”?\n"
      ]
    },
    {
      "cell_type": "markdown",
      "id": "b16cf42b",
      "metadata": {},
      "source": [
        "3. **\"Hotspots on Earth\" – Geographic Distribution**\n",
        "**Chart Type:** Map (choropleth or bubble map)\n",
        "\n",
        "**USA:** Map showing sightings per state\n",
        "\n",
        "**World:** Displays international distribution of reports\n",
        "\n",
        "**Story Point:** Why are there more sightings in California or Florida? Due to population density, media attention, or actual aliens?\n"
      ]
    },
    {
      "cell_type": "markdown",
      "id": "21764a8f",
      "metadata": {},
      "source": [
        "4. **\"Flying Triangles, Cigars, and Lights\" – Changing Shapes Over Time**\n",
        "**Chart Type:** Stacked area chart\n",
        "\n",
        "**Y-Axis:** Proportion per shape (disc, triangle, fireball, etc.)\n",
        "\n",
        "**X-Axis:** Years\n",
        "\n",
        "**Story Point:** Which \"designs\" were popular in which decade? More classic \"flying saucers\" in the past, more light orbs today?\n"
      ]
    },
    {
      "cell_type": "markdown",
      "id": "66dc76b7",
      "metadata": {},
      "source": [
        "5. **\"From 2 Seconds to 5 Hours\" – Duration of Sightings**\n",
        "**Chart Type:** Histogram (logarithmic) or box plot\n",
        "\n",
        "**Displays:** Duration categories (e.g., <1 min, 1–5 min, >1 hr)\n",
        "\n",
        "**Optional:** Grouped by shape or location\n",
        "\n",
        "**Story Point:** Most UFOs vanish quickly – or do some linger longer?\n"
      ]
    },
    {
      "cell_type": "markdown",
      "id": "67acd918",
      "metadata": {},
      "source": [
        "6. **\"Aliens at Christmas?\" – Correlation with Holidays**\n",
        "**Chart Type:** Bar chart or calendar heatmap\n",
        "\n",
        "**Displays:** Holidays vs. sighting density (e.g., Halloween, July 4th, Christmas)\n",
        "\n",
        "**Also:** How many sightings occur on “special days”?\n",
        "\n",
        "**Story Point:** Are there cultural triggers? Holidays = more free time, more alcohol, more aliens?\n"
      ]
    }
  ],
  "metadata": {
    "language_info": {
      "name": "python"
    }
  },
  "nbformat": 4,
  "nbformat_minor": 5
}
