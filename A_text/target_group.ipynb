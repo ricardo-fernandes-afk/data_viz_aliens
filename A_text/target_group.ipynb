{
 "cells": [
  {
   "cell_type": "markdown",
   "id": "a53b40b0",
   "metadata": {},
   "source": [
    "Unsere Visualisierungsstory richtet sich an eine dateninteressierte Öffentlichkeit, die sich für gesellschaftliche Phänomene, Popkultur und kuriose Geschichten begeistert. Dazu zählen etwa Menschen, die gerne Netflix-Dokumentationen schauen, True-Crime-Podcasts hören oder auf Plattformen wie Reddit, TikTok oder YouTube gerne in die Welt der Verschwörungstheorien und unerklärlichen Ereignisse eintauchen – mit einem gesunden Maß an Neugier und Skepsis.\n",
    "\n",
    "Diese Zielgruppe ist offen für kreative Darstellungen, schätzt eine unterhaltsame Erzählweise und möchte gleichzeitig verständlich aufbereitete Daten sehen. Unser Ziel ist es daher, durch klare Visualisierungen, pointierte Titel und eine spielerisch-informative Storyline komplexe Daten zugänglich und spannend zu vermitteln – mit einem Augenzwinkern, aber immer faktenbasiert."
   ]
  }
 ],
 "metadata": {
  "language_info": {
   "name": "python"
  }
 },
 "nbformat": 4,
 "nbformat_minor": 5
}
